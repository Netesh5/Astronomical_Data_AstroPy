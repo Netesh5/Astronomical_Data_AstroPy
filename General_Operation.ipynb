{
  "nbformat": 4,
  "nbformat_minor": 0,
  "metadata": {
    "colab": {
      "provenance": [],
      "authorship_tag": "ABX9TyNEFwldPr8CICPrkTurxCW1",
      "include_colab_link": true
    },
    "kernelspec": {
      "name": "python3",
      "display_name": "Python 3"
    },
    "language_info": {
      "name": "python"
    }
  },
  "cells": [
    {
      "cell_type": "markdown",
      "metadata": {
        "id": "view-in-github",
        "colab_type": "text"
      },
      "source": [
        "<a href=\"https://colab.research.google.com/github/Netesh5/Astronomical_Data_AstroPy/blob/main/General_Operation.ipynb\" target=\"_parent\"><img src=\"https://colab.research.google.com/assets/colab-badge.svg\" alt=\"Open In Colab\"/></a>"
      ]
    },
    {
      "cell_type": "code",
      "execution_count": 3,
      "metadata": {
        "id": "65yGbbFMmu1t"
      },
      "outputs": [],
      "source": [
        "from astropy.table import Table\n",
        "from google.colab import drive"
      ]
    },
    {
      "cell_type": "code",
      "source": [
        "drive.mount(\"/content/mydrive\")"
      ],
      "metadata": {
        "colab": {
          "base_uri": "https://localhost:8080/"
        },
        "id": "DY4acY-CMFNP",
        "outputId": "4d77bab9-dbec-49b3-8804-640db325eff3"
      },
      "execution_count": 4,
      "outputs": [
        {
          "output_type": "stream",
          "name": "stdout",
          "text": [
            "Mounted at /content/mydrive\n"
          ]
        }
      ]
    },
    {
      "cell_type": "markdown",
      "source": [
        "# Printing the data"
      ],
      "metadata": {
        "id": "ZRxAp8GkOHcx"
      }
    },
    {
      "cell_type": "code",
      "source": [
        "data=Table.read(\"/content/mydrive/My Drive/Machine Learning/Astronomy/demo.txt\",format=\"ascii\")\n",
        "print(data)"
      ],
      "metadata": {
        "colab": {
          "base_uri": "https://localhost:8080/"
        },
        "id": "wYRYh9e_NhO9",
        "outputId": "2c8298f5-6bb2-476e-da05-3b622b258420"
      },
      "execution_count": 6,
      "outputs": [
        {
          "output_type": "stream",
          "name": "stdout",
          "text": [
            "name  obs_date  mag_b mag_v\n",
            "---- ---------- ----- -----\n",
            " M31 2012-01-02  17.0  17.5\n",
            " M31 2012-01-02  17.1  17.4\n",
            "M101 2012-01-02  15.1  13.5\n",
            " M82 2012-02-14  16.2  14.5\n",
            " M31 2012-02-14  16.9  17.3\n",
            " M82 2012-02-14  15.2  15.5\n",
            "M101 2012-02-14  15.0  13.6\n",
            " M82 2012-03-26  15.7  16.5\n",
            "M101 2012-03-26  15.1  13.5\n",
            "M101 2012-03-26  14.8  14.3\n"
          ]
        }
      ]
    },
    {
      "cell_type": "markdown",
      "source": [
        "# Using pprint function"
      ],
      "metadata": {
        "id": "ihXGuCYlOeUz"
      }
    },
    {
      "cell_type": "code",
      "source": [
        "data.pprint()"
      ],
      "metadata": {
        "colab": {
          "base_uri": "https://localhost:8080/"
        },
        "id": "AwsfeRHaN-qy",
        "outputId": "244cd735-b95f-46a4-936a-ff0a34b76960"
      },
      "execution_count": 7,
      "outputs": [
        {
          "output_type": "stream",
          "name": "stdout",
          "text": [
            "name  obs_date  mag_b mag_v\n",
            "---- ---------- ----- -----\n",
            " M31 2012-01-02  17.0  17.5\n",
            " M31 2012-01-02  17.1  17.4\n",
            "M101 2012-01-02  15.1  13.5\n",
            " M82 2012-02-14  16.2  14.5\n",
            " M31 2012-02-14  16.9  17.3\n",
            " M82 2012-02-14  15.2  15.5\n",
            "M101 2012-02-14  15.0  13.6\n",
            " M82 2012-03-26  15.7  16.5\n",
            "M101 2012-03-26  15.1  13.5\n",
            "M101 2012-03-26  14.8  14.3\n"
          ]
        }
      ]
    },
    {
      "cell_type": "code",
      "source": [
        "data.pprint(show_name=False)"
      ],
      "metadata": {
        "colab": {
          "base_uri": "https://localhost:8080/"
        },
        "id": "zVA7XhF_Om6G",
        "outputId": "06e9a4a8-3ddf-4960-856e-076784bede38"
      },
      "execution_count": 10,
      "outputs": [
        {
          "output_type": "stream",
          "name": "stdout",
          "text": [
            " M31 2012-01-02 17.0 17.5\n",
            " M31 2012-01-02 17.1 17.4\n",
            "M101 2012-01-02 15.1 13.5\n",
            " M82 2012-02-14 16.2 14.5\n",
            " M31 2012-02-14 16.9 17.3\n",
            " M82 2012-02-14 15.2 15.5\n",
            "M101 2012-02-14 15.0 13.6\n",
            " M82 2012-03-26 15.7 16.5\n",
            "M101 2012-03-26 15.1 13.5\n",
            "M101 2012-03-26 14.8 14.3\n"
          ]
        }
      ]
    },
    {
      "cell_type": "code",
      "source": [
        "print(data[\"name\"])"
      ],
      "metadata": {
        "colab": {
          "base_uri": "https://localhost:8080/"
        },
        "id": "EflivZH2OpUM",
        "outputId": "2d93e4f7-572a-42fd-8bed-50311696e9bd"
      },
      "execution_count": 12,
      "outputs": [
        {
          "output_type": "stream",
          "name": "stdout",
          "text": [
            "name\n",
            "----\n",
            " M31\n",
            " M31\n",
            "M101\n",
            " M82\n",
            " M31\n",
            " M82\n",
            "M101\n",
            " M82\n",
            "M101\n",
            "M101\n"
          ]
        }
      ]
    },
    {
      "cell_type": "markdown",
      "source": [
        "# Adding new column\n"
      ],
      "metadata": {
        "id": "vhCUM5NcPDjp"
      }
    },
    {
      "cell_type": "code",
      "source": [
        "from astropy.table import Column\n",
        "\n",
        "new_col=Column(range(len(data)),name=\"new_col\")\n",
        "\n",
        "data.add_column(new_col,index=len(data))\n",
        "\n",
        "print(data)"
      ],
      "metadata": {
        "colab": {
          "base_uri": "https://localhost:8080/"
        },
        "id": "xpmGtTlLPJj-",
        "outputId": "0d329544-674d-40fd-819c-0c674e90767f"
      },
      "execution_count": 24,
      "outputs": [
        {
          "output_type": "stream",
          "name": "stdout",
          "text": [
            "name  obs_date  mag_b mag_v new_col\n",
            "---- ---------- ----- ----- -------\n",
            " M31 2012-01-02  17.0  17.5       0\n",
            " M31 2012-01-02  17.1  17.4       1\n",
            "M101 2012-01-02  15.1  13.5       2\n",
            " M82 2012-02-14  16.2  14.5       3\n",
            " M31 2012-02-14  16.9  17.3       4\n",
            " M82 2012-02-14  15.2  15.5       5\n",
            "M101 2012-02-14  15.0  13.6       6\n",
            " M82 2012-03-26  15.7  16.5       7\n",
            "M101 2012-03-26  15.1  13.5       8\n",
            "M101 2012-03-26  14.8  14.3       9\n"
          ]
        }
      ]
    },
    {
      "cell_type": "markdown",
      "source": [
        "# Removing columns"
      ],
      "metadata": {
        "id": "3R7sm-bOS-zI"
      }
    },
    {
      "cell_type": "code",
      "source": [
        "data.remove_columns([\"name\",\"obs_date\"])\n",
        "print(data)"
      ],
      "metadata": {
        "colab": {
          "base_uri": "https://localhost:8080/"
        },
        "id": "Ngu729kOPkLH",
        "outputId": "62dd5668-3e8b-415b-fa80-072c3ff43f2a"
      },
      "execution_count": 27,
      "outputs": [
        {
          "output_type": "stream",
          "name": "stdout",
          "text": [
            "mag_b mag_v new_col\n",
            "----- ----- -------\n",
            " 17.0  17.5       0\n",
            " 17.1  17.4       1\n",
            " 15.1  13.5       2\n",
            " 16.2  14.5       3\n",
            " 16.9  17.3       4\n",
            " 15.2  15.5       5\n",
            " 15.0  13.6       6\n",
            " 15.7  16.5       7\n",
            " 15.1  13.5       8\n",
            " 14.8  14.3       9\n"
          ]
        }
      ]
    },
    {
      "cell_type": "markdown",
      "source": [
        "# Sorting"
      ],
      "metadata": {
        "id": "S96BujT8TYEU"
      }
    },
    {
      "cell_type": "code",
      "source": [
        "data.sort([\"mag_b\",\"mag_v\"])\n",
        "print(data)"
      ],
      "metadata": {
        "colab": {
          "base_uri": "https://localhost:8080/"
        },
        "id": "NAVkRTw6TbXA",
        "outputId": "187bb14b-0448-491c-c816-629e0d58344f"
      },
      "execution_count": 28,
      "outputs": [
        {
          "output_type": "stream",
          "name": "stdout",
          "text": [
            "mag_b mag_v new_col\n",
            "----- ----- -------\n",
            " 14.8  14.3       9\n",
            " 15.0  13.6       6\n",
            " 15.1  13.5       2\n",
            " 15.1  13.5       8\n",
            " 15.2  15.5       5\n",
            " 15.7  16.5       7\n",
            " 16.2  14.5       3\n",
            " 16.9  17.3       4\n",
            " 17.0  17.5       0\n",
            " 17.1  17.4       1\n"
          ]
        }
      ]
    },
    {
      "cell_type": "code",
      "source": [],
      "metadata": {
        "id": "PSco0yotTkFz"
      },
      "execution_count": null,
      "outputs": []
    }
  ]
}