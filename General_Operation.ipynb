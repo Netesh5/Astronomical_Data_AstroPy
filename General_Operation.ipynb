{
  "nbformat": 4,
  "nbformat_minor": 0,
  "metadata": {
    "colab": {
      "provenance": [],
      "authorship_tag": "ABX9TyOFTMZtrp/p2d2yi1ZwgY2r",
      "include_colab_link": true
    },
    "kernelspec": {
      "name": "python3",
      "display_name": "Python 3"
    },
    "language_info": {
      "name": "python"
    }
  },
  "cells": [
    {
      "cell_type": "markdown",
      "metadata": {
        "id": "view-in-github",
        "colab_type": "text"
      },
      "source": [
        "<a href=\"https://colab.research.google.com/github/Netesh5/Astronomical_Data_AstroPy/blob/main/General_Operation.ipynb\" target=\"_parent\"><img src=\"https://colab.research.google.com/assets/colab-badge.svg\" alt=\"Open In Colab\"/></a>"
      ]
    },
    {
      "cell_type": "code",
      "execution_count": null,
      "metadata": {
        "id": "65yGbbFMmu1t"
      },
      "outputs": [],
      "source": [
        "from astropy.table import Table\n",
        "from google.colab import drive"
      ]
    },
    {
      "cell_type": "code",
      "source": [
        "drive.mount(\"/content/mydrive\")"
      ],
      "metadata": {
        "colab": {
          "base_uri": "https://localhost:8080/"
        },
        "id": "DY4acY-CMFNP",
        "outputId": "4d77bab9-dbec-49b3-8804-640db325eff3"
      },
      "execution_count": null,
      "outputs": [
        {
          "output_type": "stream",
          "name": "stdout",
          "text": [
            "Mounted at /content/mydrive\n"
          ]
        }
      ]
    },
    {
      "cell_type": "markdown",
      "source": [
        "# Printing the data"
      ],
      "metadata": {
        "id": "ZRxAp8GkOHcx"
      }
    },
    {
      "cell_type": "code",
      "source": [
        "data=Table.read(\"/content/mydrive/My Drive/Machine Learning/Astronomy/demo.txt\",format=\"ascii\")\n",
        "print(data)"
      ],
      "metadata": {
        "colab": {
          "base_uri": "https://localhost:8080/"
        },
        "id": "wYRYh9e_NhO9",
        "outputId": "2c8298f5-6bb2-476e-da05-3b622b258420"
      },
      "execution_count": null,
      "outputs": [
        {
          "output_type": "stream",
          "name": "stdout",
          "text": [
            "name  obs_date  mag_b mag_v\n",
            "---- ---------- ----- -----\n",
            " M31 2012-01-02  17.0  17.5\n",
            " M31 2012-01-02  17.1  17.4\n",
            "M101 2012-01-02  15.1  13.5\n",
            " M82 2012-02-14  16.2  14.5\n",
            " M31 2012-02-14  16.9  17.3\n",
            " M82 2012-02-14  15.2  15.5\n",
            "M101 2012-02-14  15.0  13.6\n",
            " M82 2012-03-26  15.7  16.5\n",
            "M101 2012-03-26  15.1  13.5\n",
            "M101 2012-03-26  14.8  14.3\n"
          ]
        }
      ]
    },
    {
      "cell_type": "markdown",
      "source": [
        "# Using pprint function"
      ],
      "metadata": {
        "id": "ihXGuCYlOeUz"
      }
    },
    {
      "cell_type": "code",
      "source": [
        "data.pprint()"
      ],
      "metadata": {
        "colab": {
          "base_uri": "https://localhost:8080/"
        },
        "id": "AwsfeRHaN-qy",
        "outputId": "244cd735-b95f-46a4-936a-ff0a34b76960"
      },
      "execution_count": null,
      "outputs": [
        {
          "output_type": "stream",
          "name": "stdout",
          "text": [
            "name  obs_date  mag_b mag_v\n",
            "---- ---------- ----- -----\n",
            " M31 2012-01-02  17.0  17.5\n",
            " M31 2012-01-02  17.1  17.4\n",
            "M101 2012-01-02  15.1  13.5\n",
            " M82 2012-02-14  16.2  14.5\n",
            " M31 2012-02-14  16.9  17.3\n",
            " M82 2012-02-14  15.2  15.5\n",
            "M101 2012-02-14  15.0  13.6\n",
            " M82 2012-03-26  15.7  16.5\n",
            "M101 2012-03-26  15.1  13.5\n",
            "M101 2012-03-26  14.8  14.3\n"
          ]
        }
      ]
    },
    {
      "cell_type": "code",
      "source": [
        "data.pprint(show_name=False)"
      ],
      "metadata": {
        "colab": {
          "base_uri": "https://localhost:8080/"
        },
        "id": "zVA7XhF_Om6G",
        "outputId": "06e9a4a8-3ddf-4960-856e-076784bede38"
      },
      "execution_count": null,
      "outputs": [
        {
          "output_type": "stream",
          "name": "stdout",
          "text": [
            " M31 2012-01-02 17.0 17.5\n",
            " M31 2012-01-02 17.1 17.4\n",
            "M101 2012-01-02 15.1 13.5\n",
            " M82 2012-02-14 16.2 14.5\n",
            " M31 2012-02-14 16.9 17.3\n",
            " M82 2012-02-14 15.2 15.5\n",
            "M101 2012-02-14 15.0 13.6\n",
            " M82 2012-03-26 15.7 16.5\n",
            "M101 2012-03-26 15.1 13.5\n",
            "M101 2012-03-26 14.8 14.3\n"
          ]
        }
      ]
    },
    {
      "cell_type": "code",
      "source": [
        "print(data[\"name\"])"
      ],
      "metadata": {
        "colab": {
          "base_uri": "https://localhost:8080/"
        },
        "id": "EflivZH2OpUM",
        "outputId": "2d93e4f7-572a-42fd-8bed-50311696e9bd"
      },
      "execution_count": null,
      "outputs": [
        {
          "output_type": "stream",
          "name": "stdout",
          "text": [
            "name\n",
            "----\n",
            " M31\n",
            " M31\n",
            "M101\n",
            " M82\n",
            " M31\n",
            " M82\n",
            "M101\n",
            " M82\n",
            "M101\n",
            "M101\n"
          ]
        }
      ]
    },
    {
      "cell_type": "markdown",
      "source": [
        "# Adding new column\n"
      ],
      "metadata": {
        "id": "vhCUM5NcPDjp"
      }
    },
    {
      "cell_type": "code",
      "source": [
        "from astropy.table import Column\n",
        "\n",
        "new_col=Column(range(len(data)),name=\"new_col\")\n",
        "\n",
        "data.add_column(new_col,index=len(data))\n",
        "\n",
        "print(data)"
      ],
      "metadata": {
        "colab": {
          "base_uri": "https://localhost:8080/"
        },
        "id": "xpmGtTlLPJj-",
        "outputId": "0d329544-674d-40fd-819c-0c674e90767f"
      },
      "execution_count": null,
      "outputs": [
        {
          "output_type": "stream",
          "name": "stdout",
          "text": [
            "name  obs_date  mag_b mag_v new_col\n",
            "---- ---------- ----- ----- -------\n",
            " M31 2012-01-02  17.0  17.5       0\n",
            " M31 2012-01-02  17.1  17.4       1\n",
            "M101 2012-01-02  15.1  13.5       2\n",
            " M82 2012-02-14  16.2  14.5       3\n",
            " M31 2012-02-14  16.9  17.3       4\n",
            " M82 2012-02-14  15.2  15.5       5\n",
            "M101 2012-02-14  15.0  13.6       6\n",
            " M82 2012-03-26  15.7  16.5       7\n",
            "M101 2012-03-26  15.1  13.5       8\n",
            "M101 2012-03-26  14.8  14.3       9\n"
          ]
        }
      ]
    },
    {
      "cell_type": "markdown",
      "source": [
        "# Removing columns"
      ],
      "metadata": {
        "id": "3R7sm-bOS-zI"
      }
    },
    {
      "cell_type": "code",
      "source": [
        "data.remove_columns([\"name\",\"obs_date\"])\n",
        "print(data)"
      ],
      "metadata": {
        "colab": {
          "base_uri": "https://localhost:8080/"
        },
        "id": "Ngu729kOPkLH",
        "outputId": "62dd5668-3e8b-415b-fa80-072c3ff43f2a"
      },
      "execution_count": null,
      "outputs": [
        {
          "output_type": "stream",
          "name": "stdout",
          "text": [
            "mag_b mag_v new_col\n",
            "----- ----- -------\n",
            " 17.0  17.5       0\n",
            " 17.1  17.4       1\n",
            " 15.1  13.5       2\n",
            " 16.2  14.5       3\n",
            " 16.9  17.3       4\n",
            " 15.2  15.5       5\n",
            " 15.0  13.6       6\n",
            " 15.7  16.5       7\n",
            " 15.1  13.5       8\n",
            " 14.8  14.3       9\n"
          ]
        }
      ]
    },
    {
      "cell_type": "markdown",
      "source": [
        "# Sorting"
      ],
      "metadata": {
        "id": "S96BujT8TYEU"
      }
    },
    {
      "cell_type": "code",
      "source": [
        "data.sort([\"mag_b\",\"mag_v\"]) # sort by mag_b then if two value have same then sort by mag_v\n",
        "print(data)"
      ],
      "metadata": {
        "colab": {
          "base_uri": "https://localhost:8080/"
        },
        "id": "NAVkRTw6TbXA",
        "outputId": "187bb14b-0448-491c-c816-629e0d58344f"
      },
      "execution_count": null,
      "outputs": [
        {
          "output_type": "stream",
          "name": "stdout",
          "text": [
            "mag_b mag_v new_col\n",
            "----- ----- -------\n",
            " 14.8  14.3       9\n",
            " 15.0  13.6       6\n",
            " 15.1  13.5       2\n",
            " 15.1  13.5       8\n",
            " 15.2  15.5       5\n",
            " 15.7  16.5       7\n",
            " 16.2  14.5       3\n",
            " 16.9  17.3       4\n",
            " 17.0  17.5       0\n",
            " 17.1  17.4       1\n"
          ]
        }
      ]
    },
    {
      "cell_type": "code",
      "source": [
        "data.reverse() # sort in reverse order\n",
        "print(data)"
      ],
      "metadata": {
        "colab": {
          "base_uri": "https://localhost:8080/"
        },
        "id": "PSco0yotTkFz",
        "outputId": "10ca36ba-0ff1-4296-a4e5-ac5994b9ec7d"
      },
      "execution_count": null,
      "outputs": [
        {
          "output_type": "stream",
          "name": "stdout",
          "text": [
            "mag_b mag_v new_col\n",
            "----- ----- -------\n",
            " 17.1  17.4       1\n",
            " 17.0  17.5       0\n",
            " 16.9  17.3       4\n",
            " 16.2  14.5       3\n",
            " 15.7  16.5       7\n",
            " 15.2  15.5       5\n",
            " 15.1  13.5       8\n",
            " 15.1  13.5       2\n",
            " 15.0  13.6       6\n",
            " 14.8  14.3       9\n"
          ]
        }
      ]
    },
    {
      "cell_type": "markdown",
      "source": [
        "# General Coordinates"
      ],
      "metadata": {
        "id": "MnuefSppgm_z"
      }
    },
    {
      "cell_type": "code",
      "source": [
        "from astropy.coordinates import SkyCoord\n",
        "import astropy.units as u"
      ],
      "metadata": {
        "id": "3gpK912Kgv3Q"
      },
      "execution_count": 3,
      "outputs": []
    },
    {
      "cell_type": "code",
      "source": [
        "c=SkyCoord(ra=10.68458*u.degree, dec=41.26917*u.degree)\n",
        "print(c)"
      ],
      "metadata": {
        "colab": {
          "base_uri": "https://localhost:8080/"
        },
        "id": "1GGpVSHHg5Ih",
        "outputId": "8c077e0b-5701-437b-8f8b-9fa9434b7862"
      },
      "execution_count": 5,
      "outputs": [
        {
          "output_type": "stream",
          "name": "stdout",
          "text": [
            "<SkyCoord (ICRS): (ra, dec) in deg\n",
            "    (10.68458, 41.26917)>\n"
          ]
        }
      ]
    },
    {
      "cell_type": "code",
      "source": [
        "print(c.ra)"
      ],
      "metadata": {
        "colab": {
          "base_uri": "https://localhost:8080/"
        },
        "id": "wSuvYnMnhzX6",
        "outputId": "99c05fde-7818-4646-81cb-a08c995d9e0b"
      },
      "execution_count": 6,
      "outputs": [
        {
          "output_type": "stream",
          "name": "stdout",
          "text": [
            "10d41m04.488s\n"
          ]
        }
      ]
    },
    {
      "cell_type": "code",
      "source": [
        "print(c.ra.hour)"
      ],
      "metadata": {
        "colab": {
          "base_uri": "https://localhost:8080/"
        },
        "id": "lhgEpdu2h8-V",
        "outputId": "b45bdf7f-ed58-4319-9430-5447e2b1f007"
      },
      "execution_count": 7,
      "outputs": [
        {
          "output_type": "stream",
          "name": "stdout",
          "text": [
            "0.7123053333333335\n"
          ]
        }
      ]
    },
    {
      "cell_type": "code",
      "source": [
        "print(c.ra.hms)"
      ],
      "metadata": {
        "colab": {
          "base_uri": "https://localhost:8080/"
        },
        "id": "Qa7pjNBoiAJC",
        "outputId": "c93b43fe-6788-494d-c3e7-69a6decf718d"
      },
      "execution_count": 8,
      "outputs": [
        {
          "output_type": "stream",
          "name": "stdout",
          "text": [
            "hms_tuple(h=0.0, m=42.0, s=44.299200000000525)\n"
          ]
        }
      ]
    },
    {
      "cell_type": "code",
      "source": [
        "print(c.dec.degree)"
      ],
      "metadata": {
        "colab": {
          "base_uri": "https://localhost:8080/"
        },
        "id": "zLTzaMKIiEi_",
        "outputId": "ff521e07-4af0-4144-f6e7-b64d9c510d40"
      },
      "execution_count": 9,
      "outputs": [
        {
          "output_type": "stream",
          "name": "stdout",
          "text": [
            "41.26917\n"
          ]
        }
      ]
    },
    {
      "cell_type": "code",
      "source": [
        "print(c.dec.radian)"
      ],
      "metadata": {
        "colab": {
          "base_uri": "https://localhost:8080/"
        },
        "id": "j-8ReYO_iKhb",
        "outputId": "3b14c6ae-2311-474d-9bfe-1ac30514c5fe"
      },
      "execution_count": 10,
      "outputs": [
        {
          "output_type": "stream",
          "name": "stdout",
          "text": [
            "0.7202828960652683\n"
          ]
        }
      ]
    },
    {
      "cell_type": "code",
      "source": [
        "print(c.galactic)"
      ],
      "metadata": {
        "colab": {
          "base_uri": "https://localhost:8080/"
        },
        "id": "5bnUn5ZHiOc5",
        "outputId": "0c1afa35-6100-491d-ae5e-112800851ada"
      },
      "execution_count": 11,
      "outputs": [
        {
          "output_type": "stream",
          "name": "stdout",
          "text": [
            "<SkyCoord (Galactic): (l, b) in deg\n",
            "    (121.17424181, -21.57288557)>\n"
          ]
        }
      ]
    },
    {
      "cell_type": "code",
      "source": [
        "print(c.fk4)"
      ],
      "metadata": {
        "colab": {
          "base_uri": "https://localhost:8080/"
        },
        "id": "qnNd_dYdiUcG",
        "outputId": "8515c609-e7bd-4c08-b2c4-e3bfd955c7e0"
      },
      "execution_count": 12,
      "outputs": [
        {
          "output_type": "stream",
          "name": "stdout",
          "text": [
            "<SkyCoord (FK4: equinox=B1950.000, obstime=B1950.000): (ra, dec) in deg\n",
            "    (10.00026791, 40.99534531)>\n"
          ]
        }
      ]
    },
    {
      "cell_type": "code",
      "source": [],
      "metadata": {
        "id": "grZ2Cpp7iY5B"
      },
      "execution_count": null,
      "outputs": []
    },
    {
      "cell_type": "markdown",
      "source": [
        "# Radial Velocity Correction"
      ],
      "metadata": {
        "id": "UeoFDpQxknoR"
      }
    },
    {
      "cell_type": "code",
      "source": [
        "from astropy.coordinates import EarthLocation\n",
        "from astropy.time import Time\n",
        "\n",
        "observation_date=Time(\"2023-09-15\")\n",
        "target=SkyCoord.from_name(\"M31\")\n",
        "ktm=EarthLocation.of_address(\"Kathmandu,Nepal\")\n",
        "target.radial_velocity_correction(obstime=observation_date,location=ktm).to(\"km/s\")\n"
      ],
      "metadata": {
        "colab": {
          "base_uri": "https://localhost:8080/",
          "height": 38
        },
        "id": "BAR3sAdxksSq",
        "outputId": "8d5d0fd1-1bd3-4d60-8bae-68368e7829a3"
      },
      "execution_count": 13,
      "outputs": [
        {
          "output_type": "execute_result",
          "data": {
            "text/plain": [
              "<Quantity 14.03871404 km / s>"
            ],
            "text/latex": "$14.038714 \\; \\mathrm{\\frac{km}{s}}$"
          },
          "metadata": {},
          "execution_count": 13
        }
      ]
    },
    {
      "cell_type": "markdown",
      "source": [
        "# FITS Operations (Flexible Image Transport System)"
      ],
      "metadata": {
        "id": "zCIGo8r0mZlV"
      }
    },
    {
      "cell_type": "code",
      "source": [
        "from astropy.io import fits\n",
        "from google.colab import drive"
      ],
      "metadata": {
        "id": "uLZn7aeSlteV"
      },
      "execution_count": 16,
      "outputs": []
    },
    {
      "cell_type": "code",
      "source": [
        "drive.mount(\"/content/mydrive\")\n",
        "##Header data Units\n",
        "\n",
        "hdulist=fits.open(\"/content/mydrive/My Drive/Machine Learning/Astronomy/example.fits\")"
      ],
      "metadata": {
        "colab": {
          "base_uri": "https://localhost:8080/"
        },
        "id": "cQQH2gxfmoSr",
        "outputId": "50987657-3a6c-4591-d617-2a1d781aa4b1"
      },
      "execution_count": 22,
      "outputs": [
        {
          "output_type": "stream",
          "name": "stdout",
          "text": [
            "Drive already mounted at /content/mydrive; to attempt to forcibly remount, call drive.mount(\"/content/mydrive\", force_remount=True).\n"
          ]
        }
      ]
    },
    {
      "cell_type": "code",
      "source": [
        "hdulist.info()"
      ],
      "metadata": {
        "colab": {
          "base_uri": "https://localhost:8080/"
        },
        "id": "SkRSOJWxoaK2",
        "outputId": "919f137d-e3ac-4e52-cb42-87a0b0f6947b"
      },
      "execution_count": 23,
      "outputs": [
        {
          "output_type": "stream",
          "name": "stdout",
          "text": [
            "Filename: /content/mydrive/My Drive/Machine Learning/Astronomy/example.fits\n",
            "No.    Name      Ver    Type      Cards   Dimensions   Format\n",
            "  0  PRIMARY       1 PrimaryHDU      71   (512, 512)   int16   \n"
          ]
        }
      ]
    },
    {
      "cell_type": "code",
      "source": [
        "hdulist[0].header"
      ],
      "metadata": {
        "colab": {
          "base_uri": "https://localhost:8080/"
        },
        "id": "QEkTKNmIo9Zw",
        "outputId": "471b13ce-0332-41ce-a4fb-a379bc6e1926"
      },
      "execution_count": 26,
      "outputs": [
        {
          "output_type": "execute_result",
          "data": {
            "text/plain": [
              "SIMPLE  =                    T / Fits standard                                  \n",
              "BITPIX  =                   16 / Bits per pixel                                 \n",
              "NAXIS   =                    2 / Number of axes                                 \n",
              "NAXIS1  =                  512 / Axis length                                    \n",
              "NAXIS2  =                  512 / Axis length                                    \n",
              "EXTEND  =                    F / File may contain extensions                    \n",
              "ORIGIN  = 'NOAO-IRAF FITS Image Kernel July 2003' / FITS file originator        \n",
              "DATE    = '2017-02-17T04:36:31' / Date FITS file was generated                  \n",
              "IRAF-TLM= '2017-02-17T04:36:31' / Time of last modification                     \n",
              "OBJECT  = 'm51  B  600s'       / Name of the object observed                    \n",
              "IRAF-MAX=           1.993600E4  /  DATA MAX                                     \n",
              "IRAF-MIN=          -1.000000E0  /  DATA MIN                                     \n",
              "CCDPICNO=                   53  /  ORIGINAL CCD PICTURE NUMBER                  \n",
              "ITIME   =                  600  /  REQUESTED INTEGRATION TIME (SECS)            \n",
              "TTIME   =                  600  /  TOTAL ELAPSED TIME (SECS)                    \n",
              "OTIME   =                  600  /  ACTUAL INTEGRATION TIME (SECS)               \n",
              "DATA-TYP= 'OBJECT (0)'          /  OBJECT,DARK,BIAS,ETC.                        \n",
              "DATE-OBS= '05/04/87'            /  DATE DD/MM/YY                                \n",
              "RA      = '13:29:24.00'         /  RIGHT ASCENSION                              \n",
              "DEC     = '47:15:34.00'         /  DECLINATION                                  \n",
              "EPOCH   =                 0.00  /  EPOCH OF RA AND DEC                          \n",
              "ZD      = '22:14:00.00'         /  ZENITH DISTANCE                              \n",
              "UT      = ' 9:27:27.00'         /  UNIVERSAL TIME                               \n",
              "ST      = '14:53:42.00'         /  SIDEREAL TIME                                \n",
              "CAM-ID  =                    1  /  CAMERA HEAD ID                               \n",
              "CAM-TEMP=              -106.22  /  CAMERA TEMPERATURE, DEG C                    \n",
              "DEW-TEMP=              -180.95  /  DEWAR TEMPRATURE, DEG C                      \n",
              "F1POS   =                    2  /  FILTER BOLT I POSITION                       \n",
              "F2POS   =                    0  /  FILTER BOLT II POSITION                      \n",
              "TVFILT  =                    0  /  TV FILTER                                    \n",
              "CMP-LAMP=                    0  /  COMPARISON LAMP                              \n",
              "TILT-POS=                    0  /  TILT POSITION                                \n",
              "BIAS-PIX=                    0  /                                               \n",
              "BI-FLAG =                    0  /  BIAS SUBTRACT FLAG                           \n",
              "BP-FLAG =                    0  /  BAD PIXEL FLAG                               \n",
              "CR-FLAG =                    0  /  BAD PIXEL FLAG                               \n",
              "DK-FLAG =                    0  /  DARK SUBTRACT FLAG                           \n",
              "FR-FLAG =                    0  /  FRINGE FLAG                                  \n",
              "FR-SCALE=                 0.00  /  FRINGE SCALING PARAMETER                     \n",
              "TRIM    = 'Apr 22 14:11 Trim image section is [3:510,3:510]'                    \n",
              "BT-FLAG = 'Apr 22 14:11 Overscan correction strip is [515:544,3:510]'           \n",
              "FF-FLAG = 'Apr 22 14:11 Flat field image is Flat1.imh with scale=183.9447'      \n",
              "CCDPROC = 'Apr 22 14:11 CCD processing done'                                    \n",
              "AIRMASS =    1.08015632629395   / AIRMASS                                       \n",
              "HISTORY 'KPNO-IRAF'                                                             \n",
              "HISTORY '24-04-87'                                                              \n",
              "HISTORY 'KPNO-IRAF'           /                                                 \n",
              "HISTORY '08-04-92'            /                                                 \n",
              "                                                                                \n",
              "                                                                                \n",
              "                                                                                \n",
              "                                                                                \n",
              "                                                                                \n",
              "                                                                                \n",
              "                                                                                \n",
              "                                                                                \n",
              "                                                                                \n",
              "                                                                                \n",
              "                                                                                \n",
              "                                                                                \n",
              "                                                                                \n",
              "                                                                                \n",
              "                                                                                \n",
              "                                                                                \n",
              "                                                                                \n",
              "                                                                                \n",
              "                                                                                \n",
              "                                                                                \n",
              "                                                                                \n",
              "                                                                                \n",
              "                                                                                "
            ]
          },
          "metadata": {},
          "execution_count": 26
        }
      ]
    },
    {
      "cell_type": "code",
      "source": [
        "from astropy.wcs import WCS\n",
        "from astropy.visualization import ZScaleInterval\n",
        "import matplotlib.pyplot as plt\n",
        "\n"
      ],
      "metadata": {
        "id": "qnPwZM4vpAMV"
      },
      "execution_count": 34,
      "outputs": []
    },
    {
      "cell_type": "code",
      "source": [
        "\n",
        "hudlist=fits.open(\"/content/mydrive/My Drive/Machine Learning/Astronomy/1105_160859.fits\")\n",
        "wcs=WCS(hudlist[0].header)\n",
        "interval=ZScaleInterval() # It automatically determines the range of pixel value of an Image\n",
        "\n",
        "vmin,vmax=interval.get_limits(hudlist[0].data)\n",
        "ax=plt.subplot(111,projection=wcs)\n",
        "ax.imshow(hudlist[0],cmap=\"gray_r\",vmin=vmin,vmax=vmax,interpolation=None,origin=\"lower\")\n",
        "ax.coords.grid(color=\"black\",alpha=0.5,linestyle=\"solid\")\n",
        "ax.plot_coord(SkyCoord(\"2h17m26s\",\"-3d59m30s\",frame=\"fk5\",),\"ro\")\n",
        "hudlist.close()"
      ],
      "metadata": {
        "colab": {
          "base_uri": "https://localhost:8080/",
          "height": 833
        },
        "id": "vCUyWXxJ2qsi",
        "outputId": "1953a1d0-03c6-428e-c7ec-737d6db1d8ae"
      },
      "execution_count": 39,
      "outputs": [
        {
          "output_type": "error",
          "ename": "TypeError",
          "evalue": "ignored",
          "traceback": [
            "\u001b[0;31m---------------------------------------------------------------------------\u001b[0m",
            "\u001b[0;31mTypeError\u001b[0m                                 Traceback (most recent call last)",
            "\u001b[0;32m<ipython-input-39-29d76da67222>\u001b[0m in \u001b[0;36m<cell line: 7>\u001b[0;34m()\u001b[0m\n\u001b[1;32m      5\u001b[0m \u001b[0mvmin\u001b[0m\u001b[0;34m,\u001b[0m\u001b[0mvmax\u001b[0m\u001b[0;34m=\u001b[0m\u001b[0minterval\u001b[0m\u001b[0;34m.\u001b[0m\u001b[0mget_limits\u001b[0m\u001b[0;34m(\u001b[0m\u001b[0mhudlist\u001b[0m\u001b[0;34m[\u001b[0m\u001b[0;36m0\u001b[0m\u001b[0;34m]\u001b[0m\u001b[0;34m.\u001b[0m\u001b[0mdata\u001b[0m\u001b[0;34m)\u001b[0m\u001b[0;34m\u001b[0m\u001b[0;34m\u001b[0m\u001b[0m\n\u001b[1;32m      6\u001b[0m \u001b[0max\u001b[0m\u001b[0;34m=\u001b[0m\u001b[0mplt\u001b[0m\u001b[0;34m.\u001b[0m\u001b[0msubplot\u001b[0m\u001b[0;34m(\u001b[0m\u001b[0;36m111\u001b[0m\u001b[0;34m,\u001b[0m\u001b[0mprojection\u001b[0m\u001b[0;34m=\u001b[0m\u001b[0mwcs\u001b[0m\u001b[0;34m)\u001b[0m\u001b[0;34m\u001b[0m\u001b[0;34m\u001b[0m\u001b[0m\n\u001b[0;32m----> 7\u001b[0;31m \u001b[0max\u001b[0m\u001b[0;34m.\u001b[0m\u001b[0mimshow\u001b[0m\u001b[0;34m(\u001b[0m\u001b[0mhudlist\u001b[0m\u001b[0;34m[\u001b[0m\u001b[0;36m0\u001b[0m\u001b[0;34m]\u001b[0m\u001b[0;34m,\u001b[0m\u001b[0mcmap\u001b[0m\u001b[0;34m=\u001b[0m\u001b[0;34m\"gray_r\"\u001b[0m\u001b[0;34m,\u001b[0m\u001b[0mvmin\u001b[0m\u001b[0;34m=\u001b[0m\u001b[0mvmin\u001b[0m\u001b[0;34m,\u001b[0m\u001b[0mvmax\u001b[0m\u001b[0;34m=\u001b[0m\u001b[0mvmax\u001b[0m\u001b[0;34m,\u001b[0m\u001b[0minterpolation\u001b[0m\u001b[0;34m=\u001b[0m\u001b[0;32mNone\u001b[0m\u001b[0;34m,\u001b[0m\u001b[0morigin\u001b[0m\u001b[0;34m=\u001b[0m\u001b[0;34m\"lower\"\u001b[0m\u001b[0;34m)\u001b[0m\u001b[0;34m\u001b[0m\u001b[0;34m\u001b[0m\u001b[0m\n\u001b[0m\u001b[1;32m      8\u001b[0m \u001b[0max\u001b[0m\u001b[0;34m.\u001b[0m\u001b[0mcoords\u001b[0m\u001b[0;34m.\u001b[0m\u001b[0mgrid\u001b[0m\u001b[0;34m(\u001b[0m\u001b[0mcolor\u001b[0m\u001b[0;34m=\u001b[0m\u001b[0;34m\"black\"\u001b[0m\u001b[0;34m,\u001b[0m\u001b[0malpha\u001b[0m\u001b[0;34m=\u001b[0m\u001b[0;36m0.5\u001b[0m\u001b[0;34m,\u001b[0m\u001b[0mlinestyle\u001b[0m\u001b[0;34m=\u001b[0m\u001b[0;34m\"solid\"\u001b[0m\u001b[0;34m)\u001b[0m\u001b[0;34m\u001b[0m\u001b[0;34m\u001b[0m\u001b[0m\n\u001b[1;32m      9\u001b[0m \u001b[0max\u001b[0m\u001b[0;34m.\u001b[0m\u001b[0mplot_coord\u001b[0m\u001b[0;34m(\u001b[0m\u001b[0mSkyCoord\u001b[0m\u001b[0;34m(\u001b[0m\u001b[0;34m\"2h17m26s\"\u001b[0m\u001b[0;34m,\u001b[0m\u001b[0;34m\"-3d59m30s\"\u001b[0m\u001b[0;34m,\u001b[0m\u001b[0mframe\u001b[0m\u001b[0;34m=\u001b[0m\u001b[0;34m\"fk5\"\u001b[0m\u001b[0;34m,\u001b[0m\u001b[0;34m)\u001b[0m\u001b[0;34m,\u001b[0m\u001b[0;34m\"ro\"\u001b[0m\u001b[0;34m)\u001b[0m\u001b[0;34m\u001b[0m\u001b[0;34m\u001b[0m\u001b[0m\n",
            "\u001b[0;32m/usr/local/lib/python3.10/dist-packages/astropy/visualization/wcsaxes/core.py\u001b[0m in \u001b[0;36mimshow\u001b[0;34m(self, X, *args, **kwargs)\u001b[0m\n\u001b[1;32m    233\u001b[0m                 \u001b[0mX\u001b[0m \u001b[0;34m=\u001b[0m \u001b[0mX\u001b[0m\u001b[0;34m.\u001b[0m\u001b[0mtranspose\u001b[0m\u001b[0;34m(\u001b[0m\u001b[0mFLIP_TOP_BOTTOM\u001b[0m\u001b[0;34m)\u001b[0m\u001b[0;34m\u001b[0m\u001b[0;34m\u001b[0m\u001b[0m\n\u001b[1;32m    234\u001b[0m \u001b[0;34m\u001b[0m\u001b[0m\n\u001b[0;32m--> 235\u001b[0;31m         \u001b[0;32mreturn\u001b[0m \u001b[0msuper\u001b[0m\u001b[0;34m(\u001b[0m\u001b[0;34m)\u001b[0m\u001b[0;34m.\u001b[0m\u001b[0mimshow\u001b[0m\u001b[0;34m(\u001b[0m\u001b[0mX\u001b[0m\u001b[0;34m,\u001b[0m \u001b[0;34m*\u001b[0m\u001b[0margs\u001b[0m\u001b[0;34m,\u001b[0m \u001b[0morigin\u001b[0m\u001b[0;34m=\u001b[0m\u001b[0morigin\u001b[0m\u001b[0;34m,\u001b[0m \u001b[0;34m**\u001b[0m\u001b[0mkwargs\u001b[0m\u001b[0;34m)\u001b[0m\u001b[0;34m\u001b[0m\u001b[0;34m\u001b[0m\u001b[0m\n\u001b[0m\u001b[1;32m    236\u001b[0m \u001b[0;34m\u001b[0m\u001b[0m\n\u001b[1;32m    237\u001b[0m     \u001b[0;32mdef\u001b[0m \u001b[0mcontour\u001b[0m\u001b[0;34m(\u001b[0m\u001b[0mself\u001b[0m\u001b[0;34m,\u001b[0m \u001b[0;34m*\u001b[0m\u001b[0margs\u001b[0m\u001b[0;34m,\u001b[0m \u001b[0;34m**\u001b[0m\u001b[0mkwargs\u001b[0m\u001b[0;34m)\u001b[0m\u001b[0;34m:\u001b[0m\u001b[0;34m\u001b[0m\u001b[0;34m\u001b[0m\u001b[0m\n",
            "\u001b[0;32m/usr/local/lib/python3.10/dist-packages/matplotlib/__init__.py\u001b[0m in \u001b[0;36minner\u001b[0;34m(ax, data, *args, **kwargs)\u001b[0m\n\u001b[1;32m   1440\u001b[0m     \u001b[0;32mdef\u001b[0m \u001b[0minner\u001b[0m\u001b[0;34m(\u001b[0m\u001b[0max\u001b[0m\u001b[0;34m,\u001b[0m \u001b[0;34m*\u001b[0m\u001b[0margs\u001b[0m\u001b[0;34m,\u001b[0m \u001b[0mdata\u001b[0m\u001b[0;34m=\u001b[0m\u001b[0;32mNone\u001b[0m\u001b[0;34m,\u001b[0m \u001b[0;34m**\u001b[0m\u001b[0mkwargs\u001b[0m\u001b[0;34m)\u001b[0m\u001b[0;34m:\u001b[0m\u001b[0;34m\u001b[0m\u001b[0;34m\u001b[0m\u001b[0m\n\u001b[1;32m   1441\u001b[0m         \u001b[0;32mif\u001b[0m \u001b[0mdata\u001b[0m \u001b[0;32mis\u001b[0m \u001b[0;32mNone\u001b[0m\u001b[0;34m:\u001b[0m\u001b[0;34m\u001b[0m\u001b[0;34m\u001b[0m\u001b[0m\n\u001b[0;32m-> 1442\u001b[0;31m             \u001b[0;32mreturn\u001b[0m \u001b[0mfunc\u001b[0m\u001b[0;34m(\u001b[0m\u001b[0max\u001b[0m\u001b[0;34m,\u001b[0m \u001b[0;34m*\u001b[0m\u001b[0mmap\u001b[0m\u001b[0;34m(\u001b[0m\u001b[0msanitize_sequence\u001b[0m\u001b[0;34m,\u001b[0m \u001b[0margs\u001b[0m\u001b[0;34m)\u001b[0m\u001b[0;34m,\u001b[0m \u001b[0;34m**\u001b[0m\u001b[0mkwargs\u001b[0m\u001b[0;34m)\u001b[0m\u001b[0;34m\u001b[0m\u001b[0;34m\u001b[0m\u001b[0m\n\u001b[0m\u001b[1;32m   1443\u001b[0m \u001b[0;34m\u001b[0m\u001b[0m\n\u001b[1;32m   1444\u001b[0m         \u001b[0mbound\u001b[0m \u001b[0;34m=\u001b[0m \u001b[0mnew_sig\u001b[0m\u001b[0;34m.\u001b[0m\u001b[0mbind\u001b[0m\u001b[0;34m(\u001b[0m\u001b[0max\u001b[0m\u001b[0;34m,\u001b[0m \u001b[0;34m*\u001b[0m\u001b[0margs\u001b[0m\u001b[0;34m,\u001b[0m \u001b[0;34m**\u001b[0m\u001b[0mkwargs\u001b[0m\u001b[0;34m)\u001b[0m\u001b[0;34m\u001b[0m\u001b[0;34m\u001b[0m\u001b[0m\n",
            "\u001b[0;32m/usr/local/lib/python3.10/dist-packages/matplotlib/axes/_axes.py\u001b[0m in \u001b[0;36mimshow\u001b[0;34m(self, X, cmap, norm, aspect, interpolation, alpha, vmin, vmax, origin, extent, interpolation_stage, filternorm, filterrad, resample, url, **kwargs)\u001b[0m\n\u001b[1;32m   5663\u001b[0m                               **kwargs)\n\u001b[1;32m   5664\u001b[0m \u001b[0;34m\u001b[0m\u001b[0m\n\u001b[0;32m-> 5665\u001b[0;31m         \u001b[0mim\u001b[0m\u001b[0;34m.\u001b[0m\u001b[0mset_data\u001b[0m\u001b[0;34m(\u001b[0m\u001b[0mX\u001b[0m\u001b[0;34m)\u001b[0m\u001b[0;34m\u001b[0m\u001b[0;34m\u001b[0m\u001b[0m\n\u001b[0m\u001b[1;32m   5666\u001b[0m         \u001b[0mim\u001b[0m\u001b[0;34m.\u001b[0m\u001b[0mset_alpha\u001b[0m\u001b[0;34m(\u001b[0m\u001b[0malpha\u001b[0m\u001b[0;34m)\u001b[0m\u001b[0;34m\u001b[0m\u001b[0;34m\u001b[0m\u001b[0m\n\u001b[1;32m   5667\u001b[0m         \u001b[0;32mif\u001b[0m \u001b[0mim\u001b[0m\u001b[0;34m.\u001b[0m\u001b[0mget_clip_path\u001b[0m\u001b[0;34m(\u001b[0m\u001b[0;34m)\u001b[0m \u001b[0;32mis\u001b[0m \u001b[0;32mNone\u001b[0m\u001b[0;34m:\u001b[0m\u001b[0;34m\u001b[0m\u001b[0;34m\u001b[0m\u001b[0m\n",
            "\u001b[0;32m/usr/local/lib/python3.10/dist-packages/matplotlib/image.py\u001b[0m in \u001b[0;36mset_data\u001b[0;34m(self, A)\u001b[0m\n\u001b[1;32m    699\u001b[0m         if (self._A.dtype != np.uint8 and\n\u001b[1;32m    700\u001b[0m                 not np.can_cast(self._A.dtype, float, \"same_kind\")):\n\u001b[0;32m--> 701\u001b[0;31m             raise TypeError(\"Image data of dtype {} cannot be converted to \"\n\u001b[0m\u001b[1;32m    702\u001b[0m                             \"float\".format(self._A.dtype))\n\u001b[1;32m    703\u001b[0m \u001b[0;34m\u001b[0m\u001b[0m\n",
            "\u001b[0;31mTypeError\u001b[0m: Image data of dtype object cannot be converted to float"
          ]
        },
        {
          "output_type": "display_data",
          "data": {
            "text/plain": [
              "<Figure size 640x480 with 1 Axes>"
            ],
            "image/png": "[encoded data removed]"
          },
          "metadata": {}
        }
      ]
    },
    {
      "cell_type": "code",
      "source": [],
      "metadata": {
        "id": "FpJDkiNh3MGU"
      },
      "execution_count": null,
      "outputs": []
    }
  ]
}