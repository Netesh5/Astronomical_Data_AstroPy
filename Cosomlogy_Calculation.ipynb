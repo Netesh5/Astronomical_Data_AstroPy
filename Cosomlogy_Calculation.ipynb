{
  "nbformat": 4,
  "nbformat_minor": 0,
  "metadata": {
    "colab": {
      "provenance": [],
      "authorship_tag": "ABX9TyOLdNTTC3/fnOzy8siAjXzp",
      "include_colab_link": true
    },
    "kernelspec": {
      "name": "python3",
      "display_name": "Python 3"
    },
    "language_info": {
      "name": "python"
    }
  },
  "cells": [
    {
      "cell_type": "markdown",
      "metadata": {
        "id": "view-in-github",
        "colab_type": "text"
      },
      "source": [
        "<a href=\"https://colab.research.google.com/github/Netesh5/Astronomical_Data_AstroPy/blob/main/Cosomlogy_Calculation.ipynb\" target=\"_parent\"><img src=\"https://colab.research.google.com/assets/colab-badge.svg\" alt=\"Open In Colab\"/></a>"
      ]
    },
    {
      "cell_type": "code",
      "execution_count": 5,
      "metadata": {
        "id": "evG6zflj42kQ"
      },
      "outputs": [],
      "source": [
        "from astropy import cosmology"
      ]
    },
    {
      "cell_type": "code",
      "source": [
        "print(cosmology.available)"
      ],
      "metadata": {
        "colab": {
          "base_uri": "https://localhost:8080/"
        },
        "id": "f6f5boWz53df",
        "outputId": "25ead8c8-fa46-497a-f063-3d530ff7397c"
      },
      "execution_count": 7,
      "outputs": [
        {
          "output_type": "stream",
          "name": "stdout",
          "text": [
            "('Planck13', 'Planck15', 'Planck18', 'WMAP1', 'WMAP3', 'WMAP5', 'WMAP7', 'WMAP9')\n"
          ]
        }
      ]
    },
    {
      "cell_type": "code",
      "source": [
        "from astropy.cosmology import WMAP9"
      ],
      "metadata": {
        "id": "RCoEC-3-6BRm"
      },
      "execution_count": 8,
      "outputs": []
    },
    {
      "cell_type": "markdown",
      "source": [
        "# Performing Cosmological Calculations"
      ],
      "metadata": {
        "id": "amg3kQq769rT"
      }
    },
    {
      "cell_type": "code",
      "source": [
        "WMAP9.Ode(3) # density parameter for dark energy at redshift z=3   (in units of critical density)"
      ],
      "metadata": {
        "colab": {
          "base_uri": "https://localhost:8080/"
        },
        "id": "UNreI7Ks6ulK",
        "outputId": "00be6860-fcb6-4240-e730-205031e964c3"
      },
      "execution_count": 10,
      "outputs": [
        {
          "output_type": "execute_result",
          "data": {
            "text/plain": [
              "0.03740695834664705"
            ]
          },
          "metadata": {},
          "execution_count": 10
        }
      ]
    },
    {
      "cell_type": "code",
      "source": [
        "WMAP9.critical_density(3)   # critical density at z=3"
      ],
      "metadata": {
        "colab": {
          "base_uri": "https://localhost:8080/",
          "height": 38
        },
        "id": "lmiMHPSG7GqP",
        "outputId": "f8b3281a-184a-411a-c222-6b92e9febcc6"
      },
      "execution_count": 11,
      "outputs": [
        {
          "output_type": "execute_result",
          "data": {
            "text/plain": [
              "<Quantity 1.72139427e-28 g / cm3>"
            ],
            "text/latex": "$1.7213943 \\times 10^{-28} \\; \\mathrm{\\frac{g}{cm^{3}}}$"
          },
          "metadata": {},
          "execution_count": 11
        }
      ]
    },
    {
      "cell_type": "code",
      "source": [
        "WMAP9.Tcmb(1100)    # CMB temperature at z=1100"
      ],
      "metadata": {
        "colab": {
          "base_uri": "https://localhost:8080/",
          "height": 37
        },
        "id": "DU0zMLh67L3X",
        "outputId": "4a16c35d-d16c-4776-b4ab-7e6c3e48ee12"
      },
      "execution_count": 12,
      "outputs": [
        {
          "output_type": "execute_result",
          "data": {
            "text/plain": [
              "<Quantity 3000.225 K>"
            ],
            "text/latex": "$3000.225 \\; \\mathrm{K}$"
          },
          "metadata": {},
          "execution_count": 12
        }
      ]
    },
    {
      "cell_type": "code",
      "source": [
        "WMAP9.angular_diameter_distance(2)  # Angular diameter distance in Mpc at z=2."
      ],
      "metadata": {
        "colab": {
          "base_uri": "https://localhost:8080/",
          "height": 37
        },
        "id": "BTOa4O2C7OA0",
        "outputId": "22b9bcdc-9c45-4508-e6da-fbd205c20efd"
      },
      "execution_count": 13,
      "outputs": [
        {
          "output_type": "execute_result",
          "data": {
            "text/plain": [
              "<Quantity 1763.91012479 Mpc>"
            ],
            "text/latex": "$1763.9101 \\; \\mathrm{Mpc}$"
          },
          "metadata": {},
          "execution_count": 13
        }
      ]
    },
    {
      "cell_type": "code",
      "source": [
        "WMAP9.arcsec_per_kpc_comoving(3)  # Angular separation in arcsec corresponding to a comoving kpc at z=3"
      ],
      "metadata": {
        "colab": {
          "base_uri": "https://localhost:8080/",
          "height": 42
        },
        "id": "NGvoJE5m7PyL",
        "outputId": "5466c6ba-3fd8-4786-f310-6f84f5a33168"
      },
      "execution_count": 14,
      "outputs": [
        {
          "output_type": "execute_result",
          "data": {
            "text/plain": [
              "<Quantity 0.03171401 arcsec / kpc>"
            ],
            "text/latex": "$0.03171401 \\; \\mathrm{\\frac{{}^{\\prime\\prime}}{kpc}}$"
          },
          "metadata": {},
          "execution_count": 14
        }
      ]
    },
    {
      "cell_type": "code",
      "source": [
        "WMAP9.scale_factor(4)     # a = 1/(1+z)"
      ],
      "metadata": {
        "colab": {
          "base_uri": "https://localhost:8080/"
        },
        "id": "qjfR_Fb97Rvq",
        "outputId": "d4efdb08-47ca-4955-fe91-14f8825ffe89"
      },
      "execution_count": 15,
      "outputs": [
        {
          "output_type": "execute_result",
          "data": {
            "text/plain": [
              "0.2"
            ]
          },
          "metadata": {},
          "execution_count": 15
        }
      ]
    },
    {
      "cell_type": "code",
      "source": [
        "WMAP9.age(1100)       # Age of universe at z=1100"
      ],
      "metadata": {
        "colab": {
          "base_uri": "https://localhost:8080/",
          "height": 37
        },
        "id": "wU4y1Pgy7TRz",
        "outputId": "523f9228-b75b-4016-f6c7-a5efc2fef7fb"
      },
      "execution_count": 16,
      "outputs": [
        {
          "output_type": "execute_result",
          "data": {
            "text/plain": [
              "<Quantity 0.00037004 Gyr>"
            ],
            "text/latex": "$0.00037004235 \\; \\mathrm{Gyr}$"
          },
          "metadata": {},
          "execution_count": 16
        }
      ]
    },
    {
      "cell_type": "code",
      "source": [
        "print (dir(WMAP9))"
      ],
      "metadata": {
        "colab": {
          "base_uri": "https://localhost:8080/"
        },
        "id": "MljyA3C97Uzs",
        "outputId": "3ee7e229-bbfb-4218-d347-2d81a1949f51"
      },
      "execution_count": 17,
      "outputs": [
        {
          "output_type": "stream",
          "name": "stdout",
          "text": [
            "['H', 'H0', 'Neff', 'Ob', 'Ob0', 'Ode', 'Ode0', 'Odm', 'Odm0', 'Ogamma', 'Ogamma0', 'Ok', 'Ok0', 'Om', 'Om0', 'Onu', 'Onu0', 'Otot', 'Otot0', 'Tcmb', 'Tcmb0', 'Tnu', 'Tnu0', '_EdS_age', '_EdS_comoving_distance_z1z2', '_EdS_lookback_time', '_H0', '_Neff', '_Ob0', '_Ode0', '_Odm0', '_Ogamma0', '_Ok0', '_Om0', '_Onu0', '_T_hypergeometric', '_Tcmb0', '_Tnu0', '__abstractmethods__', '__all_parameters__', '__annotations__', '__astropy_table__', '__class__', '__delattr__', '__dict__', '__dir__', '__doc__', '__eq__', '__equiv__', '__format__', '__ge__', '__getattribute__', '__gt__', '__hash__', '__init__', '__init_subclass__', '__le__', '__lt__', '__module__', '__ne__', '__new__', '__nonflatclass__', '__parameters__', '__reduce__', '__reduce_ex__', '__repr__', '__setattr__', '__sizeof__', '__str__', '__subclasshook__', '__weakref__', '_abc_impl', '_abs_distance_integrand_scalar', '_age', '_comoving_distance_z1z2', '_comoving_transverse_distance_z1z2', '_critical_density0', '_dS_age', '_dS_comoving_distance_z1z2', '_dS_lookback_time', '_elliptic_comoving_distance_z1z2', '_flat_age', '_flat_lookback_time', '_get_nonflat_cls', '_h', '_hubble_distance', '_hubble_time', '_hypergeometric_comoving_distance_z1z2', '_init_arguments', '_init_signature', '_integral_age', '_integral_comoving_distance_z1z2', '_integral_comoving_distance_z1z2_scalar', '_integral_lookback_time', '_inv_efunc_scalar', '_inv_efunc_scalar_args', '_lookback_time', '_lookback_time_integrand_scalar', '_m_nu', '_massivenu', '_massivenu_mass', '_meta', '_name', '_neff_per_nu', '_nmassivenu', '_nmasslessnu', '_nneutrinos', '_nu_y', '_nu_y_list', '_optimize_flat_norad', '_w_integrand', 'abs_distance_integrand', 'absorption_distance', 'age', 'angular_diameter_distance', 'angular_diameter_distance_z1z2', 'arcsec_per_kpc_comoving', 'arcsec_per_kpc_proper', 'clone', 'comoving_distance', 'comoving_transverse_distance', 'comoving_volume', 'critical_density', 'critical_density0', 'de_density_scale', 'differential_comoving_volume', 'distmod', 'efunc', 'from_format', 'h', 'has_massive_nu', 'hubble_distance', 'hubble_time', 'inv_efunc', 'is_equivalent', 'is_flat', 'kpc_comoving_per_arcmin', 'kpc_proper_per_arcmin', 'lookback_distance', 'lookback_time', 'lookback_time_integrand', 'luminosity_distance', 'm_nu', 'meta', 'name', 'nonflat', 'nu_relative_density', 'read', 'scale_factor', 'to_format', 'w', 'write']\n"
          ]
        }
      ]
    },
    {
      "cell_type": "code",
      "source": [],
      "metadata": {
        "id": "7nuUnnKs7WX8"
      },
      "execution_count": null,
      "outputs": []
    }
  ]
}